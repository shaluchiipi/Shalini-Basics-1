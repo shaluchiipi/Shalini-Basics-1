{
 "cells": [
  {
   "cell_type": "code",
   "execution_count": 16,
   "metadata": {},
   "outputs": [
    {
     "data": {
      "text/plain": [
       "'Multiple line Comment'"
      ]
     },
     "execution_count": 16,
     "metadata": {},
     "output_type": "execute_result"
    }
   ],
   "source": [
    "# Single Line Comment\n",
    "\"\"\"Multiple line Comment\"\"\""
   ]
  },
  {
   "cell_type": "code",
   "execution_count": 17,
   "metadata": {},
   "outputs": [
    {
     "ename": "SyntaxError",
     "evalue": "invalid syntax (<ipython-input-17-706c8a7dacf4>, line 13)",
     "output_type": "error",
     "traceback": [
      "\u001b[1;36m  File \u001b[1;32m\"<ipython-input-17-706c8a7dacf4>\"\u001b[1;36m, line \u001b[1;32m13\u001b[0m\n\u001b[1;33m    a$=5\u001b[0m\n\u001b[1;37m     ^\u001b[0m\n\u001b[1;31mSyntaxError\u001b[0m\u001b[1;31m:\u001b[0m invalid syntax\n"
     ]
    }
   ],
   "source": [
    "#keywords\n",
    "\n",
    "#break=2\n",
    "\n",
    "#identifiers\n",
    "\n",
    "a=4\n",
    "\n",
    "a1=5\n",
    "\n",
    "#global=5\n",
    "\n",
    "a$=5"
   ]
  },
  {
   "cell_type": "code",
   "execution_count": 11,
   "metadata": {},
   "outputs": [
    {
     "name": "stdout",
     "output_type": "stream",
     "text": [
      "1\n",
      "28\n",
      "21\n",
      "7 5 10\n",
      "2 4.2 Hello\n",
      "same data same data same data\n"
     ]
    }
   ],
   "source": [
    "#statements\n",
    "\n",
    "a=1 #assignment statement\n",
    "print (a)\n",
    "\n",
    "#Multiple statement\n",
    "\n",
    "a=1+1+4+5+\\\n",
    "3+1+6+\\\n",
    "7\n",
    "\n",
    "print (a)\n",
    "\n",
    "a=(1+5+8+2+5)\n",
    "\n",
    "print (a)\n",
    "\n",
    "#Multiple assignment statement\n",
    "\n",
    "a=7;b=5;c=10\n",
    "\n",
    "print (a,b,c)\n",
    "\n",
    "a,b,c=2,4.2,\"Hello\"\n",
    "\n",
    "print(a,b,c)\n",
    "\n",
    "a=b=c=\"same data\"\n",
    "\n",
    "print (a,b,c)"
   ]
  },
  {
   "cell_type": "code",
   "execution_count": 12,
   "metadata": {},
   "outputs": [
    {
     "data": {
      "text/plain": [
       "float"
      ]
     },
     "execution_count": 12,
     "metadata": {},
     "output_type": "execute_result"
    }
   ],
   "source": [
    "a,b,c=2,3.4,\"ds\"\n",
    "c=4.5\n",
    "type(c)"
   ]
  },
  {
   "cell_type": "code",
   "execution_count": 18,
   "metadata": {},
   "outputs": [
    {
     "name": "stdout",
     "output_type": "stream",
     "text": [
      "5\n",
      "6\n"
     ]
    }
   ],
   "source": [
    "#Case sensitive language\n",
    "\n",
    "data=5\n",
    "Data=6\n",
    "\n",
    "print(data)\n",
    "print(Data)\n",
    "    "
   ]
  },
  {
   "cell_type": "code",
   "execution_count": 23,
   "metadata": {},
   "outputs": [
    {
     "name": "stdout",
     "output_type": "stream",
     "text": [
      "1\n",
      "Inside for loop\n",
      "2\n",
      "Inside for loop\n",
      "3\n",
      "Inside for loop\n",
      "4\n",
      "Inside for loop\n",
      "5\n",
      "Inside If loop\n",
      "Hi\n",
      "hello\n",
      "40\n"
     ]
    }
   ],
   "source": [
    "#Identation\n",
    "\n",
    "for i in range(1,11):\n",
    "    print (i)\n",
    "    \n",
    "    if (i==5):\n",
    "        \n",
    "        print (\"Inside If loop\")\n",
    "        break\n",
    "    print(\"Inside for loop\")\n",
    "\n",
    "if True:\n",
    "    print (\"Hi\")\n",
    "    \n",
    "if True: print(\"hello\");a=40;print(a)\n"
   ]
  },
  {
   "cell_type": "code",
   "execution_count": 8,
   "metadata": {},
   "outputs": [
    {
     "ename": "SyntaxError",
     "evalue": "invalid syntax (<ipython-input-8-706c8a7dacf4>, line 13)",
     "output_type": "error",
     "traceback": [
      "\u001b[1;36m  File \u001b[1;32m\"<ipython-input-8-706c8a7dacf4>\"\u001b[1;36m, line \u001b[1;32m13\u001b[0m\n\u001b[1;33m    a$=5\u001b[0m\n\u001b[1;37m     ^\u001b[0m\n\u001b[1;31mSyntaxError\u001b[0m\u001b[1;31m:\u001b[0m invalid syntax\n"
     ]
    }
   ],
   "source": [
    "if(a==10):\n",
    "    print(a)\n",
    "\n",
    "a=42\n",
    "b=99\n",
    "c=a+b\n",
    "print(c)"
   ]
  },
  {
   "cell_type": "code",
   "execution_count": 24,
   "metadata": {},
   "outputs": [
    {
     "name": "stdout",
     "output_type": "stream",
     "text": [
      "1\n",
      "Inside for loop\n",
      "2\n",
      "Inside for loop\n",
      "3\n",
      "Inside for loop\n",
      "4\n",
      "Inside for loop\n",
      "5\n",
      "Inside If loop\n",
      "6\n",
      "Inside for loop\n",
      "7\n",
      "Inside for loop\n",
      "8\n",
      "Inside for loop\n",
      "9\n",
      "Inside for loop\n",
      "10\n",
      "Inside for loop\n",
      "Hi\n",
      "hello\n",
      "40\n"
     ]
    }
   ],
   "source": [
    "for i in range(1,11):\n",
    "    print (i)\n",
    "    \n",
    "    if (i==5):\n",
    "        \n",
    "        print (\"Inside If loop\")\n",
    "        continue\n",
    "    print(\"Inside for loop\")\n",
    "\n",
    "if True:\n",
    "    print (\"Hi\")\n",
    "    \n",
    "if True: print(\"hello\");a=40;print(a)"
   ]
  },
  {
   "cell_type": "code",
   "execution_count": 28,
   "metadata": {},
   "outputs": [
    {
     "name": "stdout",
     "output_type": "stream",
     "text": [
      "1\n",
      "Inside for\n",
      "2\n",
      "Inside for\n",
      "3\n",
      "Inside for\n",
      "4\n",
      "Inside for\n",
      "out of for\n"
     ]
    }
   ],
   "source": [
    "for a in range(1,5):\n",
    "    print(a)\n",
    "    print(\"Inside for\")\n",
    "    if(a==4):\n",
    "        break\n",
    "\n",
    "print(\"out of for\")"
   ]
  },
  {
   "cell_type": "code",
   "execution_count": 34,
   "metadata": {},
   "outputs": [
    {
     "name": "stdout",
     "output_type": "stream",
     "text": [
      "a is of type: <class 'int'>\n",
      "a is of type: <class 'float'>\n",
      "a is of type: <class 'str'>\n",
      "a is of type: <class 'complex'>\n"
     ]
    },
    {
     "data": {
      "text/plain": [
       "False"
      ]
     },
     "execution_count": 34,
     "metadata": {},
     "output_type": "execute_result"
    }
   ],
   "source": [
    "a=5\n",
    "print(\"a is of type:\",type(a))\n",
    "\n",
    "a=4.5\n",
    "print(\"a is of type:\",type(a))\n",
    "\n",
    "a=\"Hello\"\n",
    "print(\"a is of type:\",type(a))\n",
    "\n",
    "a=1+2j\n",
    "print(\"a is of type:\",type(a))\n",
    "\n",
    "isinstance(\"dscfg\",str)\n",
    "\n",
    "isinstance(1+2j,str)"
   ]
  },
  {
   "cell_type": "code",
   "execution_count": null,
   "metadata": {},
   "outputs": [],
   "source": [
    "import numpy as np\n",
    "import pandas as pd\n",
    "\n",
    "x=[1,2,4,5,7]\n",
    "y=[2,3,7,5,11]\n"
   ]
  }
 ],
 "metadata": {
  "kernelspec": {
   "display_name": "Python 3",
   "language": "python",
   "name": "python3"
  },
  "language_info": {
   "codemirror_mode": {
    "name": "ipython",
    "version": 3
   },
   "file_extension": ".py",
   "mimetype": "text/x-python",
   "name": "python",
   "nbconvert_exporter": "python",
   "pygments_lexer": "ipython3",
   "version": "3.6.5"
  }
 },
 "nbformat": 4,
 "nbformat_minor": 2
}
